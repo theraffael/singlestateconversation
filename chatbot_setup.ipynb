{
 "cells": [
  {
   "attachments": {},
   "cell_type": "markdown",
   "metadata": {},
   "source": [
    "# A Chatbot using GPT and a Database\n",
    "This allows multiple chatbot types (e.g. a health coach and a learning assistant) to be created. Multiple chatbot instances can be created per chatbot type (e.g. a health coach for user X and user Y, and a learning assistant for user P and user Q). Both, types and instances are stored with and referenced by an ID (e.g. a UUID) in the database.\n",
    "\n",
    "This notebook is a simplest possible tutorial guiding you to create one type with one instance. Have a look at the **chatbot_setup_advanced.jpynp** for more advanced features.\n",
    "\n",
    "### 1. Preparation\n",
    "\n",
    "##### 1.1. Set the OpenAI API Key and Model\n",
    "Rename the file **chatbot/openai_template.py** to **chatbot/openai.py** and set the following keys.\n",
    "- OPENAI_KEY = \"your OpenAI API key in quotes\"\n",
    "- OPENAI_MODEL = \"model name in quotes, e.g. gpt-3.5-turbo-16k\"\n",
    "\n",
    "##### 1.2. Install openai package\n",
    "<sup><sub>Note: If you are using GitHub Codespaces, the first time you execute a code cell, you might get asked questions from the development environment (IDE). You can say yes to recommended installations, and to installing/enabling reecommended extensions. When asked to **Select Another Kernel**, choose **Python Environments** and select the recommende environment, e.g., **Python 3.10.13**</sub></sup>"
   ]
  },
  {
   "cell_type": "code",
   "execution_count": 1,
   "metadata": {},
   "outputs": [
    {
     "name": "stdout",
     "output_type": "stream",
     "text": [
      "Requirement already satisfied: openai in /home/codespace/.python/current/lib/python3.12/site-packages (1.54.4)\n",
      "Requirement already satisfied: anyio<5,>=3.5.0 in /home/codespace/.local/lib/python3.12/site-packages (from openai) (4.6.0)\n",
      "Requirement already satisfied: distro<2,>=1.7.0 in /home/codespace/.python/current/lib/python3.12/site-packages (from openai) (1.9.0)\n",
      "Requirement already satisfied: httpx<1,>=0.23.0 in /home/codespace/.local/lib/python3.12/site-packages (from openai) (0.27.2)\n",
      "Requirement already satisfied: jiter<1,>=0.4.0 in /home/codespace/.python/current/lib/python3.12/site-packages (from openai) (0.7.1)\n",
      "Requirement already satisfied: pydantic<3,>=1.9.0 in /home/codespace/.python/current/lib/python3.12/site-packages (from openai) (2.9.2)\n",
      "Requirement already satisfied: sniffio in /home/codespace/.local/lib/python3.12/site-packages (from openai) (1.3.1)\n",
      "Requirement already satisfied: tqdm>4 in /home/codespace/.python/current/lib/python3.12/site-packages (from openai) (4.67.0)\n",
      "Requirement already satisfied: typing-extensions<5,>=4.11 in /home/codespace/.python/current/lib/python3.12/site-packages (from openai) (4.12.2)\n",
      "Requirement already satisfied: idna>=2.8 in /home/codespace/.local/lib/python3.12/site-packages (from anyio<5,>=3.5.0->openai) (3.10)\n",
      "Requirement already satisfied: certifi in /home/codespace/.local/lib/python3.12/site-packages (from httpx<1,>=0.23.0->openai) (2024.8.30)\n",
      "Requirement already satisfied: httpcore==1.* in /home/codespace/.local/lib/python3.12/site-packages (from httpx<1,>=0.23.0->openai) (1.0.5)\n",
      "Requirement already satisfied: h11<0.15,>=0.13 in /home/codespace/.local/lib/python3.12/site-packages (from httpcore==1.*->httpx<1,>=0.23.0->openai) (0.14.0)\n",
      "Requirement already satisfied: annotated-types>=0.6.0 in /home/codespace/.python/current/lib/python3.12/site-packages (from pydantic<3,>=1.9.0->openai) (0.7.0)\n",
      "Requirement already satisfied: pydantic-core==2.23.4 in /home/codespace/.python/current/lib/python3.12/site-packages (from pydantic<3,>=1.9.0->openai) (2.23.4)\n",
      "\n",
      "\u001b[1m[\u001b[0m\u001b[34;49mnotice\u001b[0m\u001b[1;39;49m]\u001b[0m\u001b[39;49m A new release of pip is available: \u001b[0m\u001b[31;49m24.2\u001b[0m\u001b[39;49m -> \u001b[0m\u001b[32;49m24.3.1\u001b[0m\n",
      "\u001b[1m[\u001b[0m\u001b[34;49mnotice\u001b[0m\u001b[1;39;49m]\u001b[0m\u001b[39;49m To update, run: \u001b[0m\u001b[32;49mpip install --upgrade pip\u001b[0m\n",
      "Note: you may need to restart the kernel to use updated packages.\n"
     ]
    }
   ],
   "source": [
    "%pip install openai"
   ]
  },
  {
   "cell_type": "markdown",
   "metadata": {},
   "source": [
    "##### 1.3. Import Chatbot library"
   ]
  },
  {
   "cell_type": "code",
   "execution_count": 2,
   "metadata": {},
   "outputs": [],
   "source": [
    "from chatbot.chatbot import Chatbot"
   ]
  },
  {
   "attachments": {},
   "cell_type": "markdown",
   "metadata": {},
   "source": [
    "### 2. Create a chatbot of type **health coach** for user **Daniel Müller**"
   ]
  },
  {
   "cell_type": "markdown",
   "metadata": {},
   "source": [
    "##### 2.1. Prompt Engineering\n",
    "To create a chatbot, we need to provide prompts. There are three prompts that can be used to customise the behaviour of the chatbot: a ***role***, ***context***, and ***starter*** prompt.\n",
    "\n",
    "**Role Prompt (type_role)**\n",
    "\n",
    "This prompt will be put at the beginning of the utterances sent to openai for completion. If you create multiple chatbots of the same type, this prompt will be the same for each one of them.\n",
    "\n",
    "You can use this prompt to specify the general (user-independent) behaviour of the chatbot, for example specifying the kind of person to enact, the topical context it acts in, and the goal of conversations it conducts with its users."
   ]
  },
  {
   "cell_type": "code",
   "execution_count": 4,
   "metadata": {},
   "outputs": [],
   "source": [
    "my_type_role = \"\"\"\n",
    "    As a digital therapy coach, check in daily with your patient to assess their well-being related to their chronic condition.\n",
    "    Use open-ended questions and empathetic dialogue to create a supportive environment.\n",
    "    Reflectively listen and encourage elaboration to assess the patient's detailed condition without directing the topic.\n",
    "\"\"\"\n",
    "\n",
    "my_type_role_2 = \"\"\"\n",
    "As a psychological choach, your task is to help users in moments of stress or anxiety and to support them emotionally. You are listening empathically and you provide calming reccomendations, mindfulness exercises or ressources. Your main characteristics are active listening, openended questions to explore the feelings of the users and your answers aim to validate the emotions of the user.\n",
    "\"\"\"\n",
    "\n",
    "my_type_role_3 = \"\"\"\n",
    "As a habit builder, your task is to help users build and maintain healthy habits, such as sports or dringing more water. You are checking in with users to validate the progress they are maing and you remind them of tasks. In addition, you should also encourage users to remain consistent. You are using goal-oriented prompts, track answers of users und celebrate successfully achieved milestones.\n",
    "\"\"\""
   ]
  },
  {
   "cell_type": "markdown",
   "metadata": {},
   "source": [
    "**Context Prompt (instance_context)**\n",
    "\n",
    "This prompt will be put right after the role prompt. If you create multiple chatbots of the same type, this prompt will be used only for one of them. <br />\n",
    "\n",
    "You can use this prompt to specify user-specific behaviour, for example information about the particular user that will use this chatbot instance."
   ]
  },
  {
   "cell_type": "code",
   "execution_count": 5,
   "metadata": {},
   "outputs": [],
   "source": [
    "my_instance_context = \"\"\"\n",
    "    Meet Daniel Müller, 52, who is tackling obesity with a therapy plan that includes morning-to-noon intermittent fasting, \n",
    "    thrice-weekly 30-minute swims, and a switch to whole grain bread.\n",
    "\"\"\"\n",
    "\n",
    "my_instance_context_2 = \"\"\"\n",
    "Meet Maria Zimmermann, 42, who struggles with infrequent anxiety attacks. The anxiety attacks usually are triggered during the day when there are a lot of sensory stimuli, especially when there are a lot of unknown people around. She currently is in therapy with a psychologist that is specialised in cognitive behavioural therapy.\n",
    "\"\"\"\n",
    "\n",
    "my_instance_context_3 = \"\"\"\n",
    "Meet Max Mustermann, 28, who struggles to establish a fitness routine and a habit of eating healthy. He has recently gained a lot of weight because he had an accident that forced him to quit his routine of playing american football. When he was playing american football, he was in good shape and didn't have to worry about eating healthy. But now things have changed and he struggles to find another sport that keeps him active.\n",
    "\"\"\""
   ]
  },
  {
   "cell_type": "markdown",
   "metadata": {},
   "source": [
    "**Starter Prompt (instance_starter)**\n",
    "\n",
    "This prompt will be appended after the role and context prompts and is meant to instruct GPT to create an initial message that opens the conversation with the user. <br />\n",
    "\n",
    "You can use this prompt to instruct GPT to welcome the user, ask initial questions, and how to proceed from there."
   ]
  },
  {
   "cell_type": "code",
   "execution_count": 6,
   "metadata": {},
   "outputs": [],
   "source": [
    "\n",
    "my_instance_starter = \"\"\"\n",
    "    After reviewing the patient's profile, compose a single, very short message that the therapy coach would use to initiate today's check-in conversation with Daniel.\n",
    "\"\"\"\n",
    "\n",
    "my_instance_starter_2 = \"\"\"\n",
    "After reviewing the patient's profile, compose a single, very short message that the psychological coach would use to initiate today's check-in conversation with Maria.\n",
    "\"\"\"\n",
    "\n",
    "my_instance_starter_3 = \"\"\" \n",
    "After reviewing the user's profile, compose a single, very short message that the habit builder coach would use to initiate today's check-in conversation with Max.\n",
    "\"\"\""
   ]
  },
  {
   "cell_type": "markdown",
   "metadata": {},
   "source": [
    "##### 2.2. Create Chatbot\n",
    "The following code creates a new Chatbot where the chatbot type is identified by the type_id provided and the chatbot instance by the user_id. These two IDs will be used further below to construct the URL pointing to this chatbot once it is deployed.\n",
    "\n",
    "The type name is only used in the front-end and does not affect the conversational behaviour.\n",
    "\n",
    "Once this code is executed, the chatbot is stored in the database."
   ]
  },
  {
   "cell_type": "code",
   "execution_count": 7,
   "metadata": {},
   "outputs": [],
   "source": [
    "bot = Chatbot(\n",
    "    database_file=\"database/chatbot.db\", \n",
    "    type_id=\"c48a13d7\",\n",
    "    user_id=\"fe6d944d\",\n",
    "    type_name=\"Health Coach\",\n",
    "    type_role=my_type_role,\n",
    "    instance_context=my_instance_context,\n",
    "    instance_starter=my_instance_starter\n",
    ")\n",
    "\n",
    "bot2 = Chatbot(\n",
    "    database_file=\"database/chatbot.db\", \n",
    "    type_id=\"aa11aa11\",\n",
    "    user_id=\"bb22bb22\",\n",
    "    type_name=\"Psychological Coach\",\n",
    "    type_role=my_type_role_2,\n",
    "    instance_context=my_instance_context_2,\n",
    "    instance_starter=my_instance_starter_2\n",
    ")\n",
    "bot3 = Chatbot(\n",
    "    database_file=\"database/chatbot.db\", \n",
    "    type_id=\"cc33cc33\",\n",
    "    user_id=\"dd44dd44\",\n",
    "    type_name=\"Habit Builder Coach\",\n",
    "    type_role=my_type_role_3,\n",
    "    instance_context=my_instance_context_3,\n",
    "    instance_starter=my_instance_starter_3\n",
    ")"
   ]
  },
  {
   "cell_type": "markdown",
   "metadata": {},
   "source": [
    "##### 2.3. Initiate Conversation Starter (Optional)\n",
    "\n",
    "If the chatbot should open the conversation with an initial message, the following code is executed. This code will execute a request to GPT, with the role, context and startet prompts specified above. The response from GPT (the initial message) will be stored in the database and therefore the user will see the opening message as soon as they access the chatbot."
   ]
  },
  {
   "cell_type": "code",
   "execution_count": 8,
   "metadata": {},
   "outputs": [
    {
     "name": "stdout",
     "output_type": "stream",
     "text": [
      "[\"Hey Daniel, how's everything going for you today?\"]\n",
      "[\"Hi Maria! How are you feeling today? Is there anything specific on your mind that you'd like to talk about or share? Remember, I'm here to support you.\"]\n",
      "[\"Hi Max! How are you doing with your fitness routine and healthy eating habits? Let's check in and see how you're progressing. Remember, consistency is key!\"]\n"
     ]
    }
   ],
   "source": [
    "print(bot.start())\n",
    "print(bot2.start())\n",
    "print(bot3.start())"
   ]
  },
  {
   "cell_type": "markdown",
   "metadata": {},
   "source": [
    "### 3. Deploy and Disseminate\n",
    "You can now deploy your chatbot. If you are using our guide for deploying to pythonanywhere.com, the URL to be handed out to the user is as follows.\n",
    "\n",
    "**Generic URL**\n",
    "\n",
    "https://[your pythonanywhere user name].pythonanywhere.com/[type id]/[user_id]/chat\n",
    "\n",
    "**For Example**\n",
    "\n",
    "\n",
    "https://kummeraf.pythonanywhere.com/c48a13d7/fe6d944d/chat \n",
    "\n"
   ]
  }
 ],
 "metadata": {
  "kernelspec": {
   "display_name": "Python 3",
   "language": "python",
   "name": "python3"
  },
  "language_info": {
   "codemirror_mode": {
    "name": "ipython",
    "version": 3
   },
   "file_extension": ".py",
   "mimetype": "text/x-python",
   "name": "python",
   "nbconvert_exporter": "python",
   "pygments_lexer": "ipython3",
   "version": "3.12.1"
  },
  "orig_nbformat": 4
 },
 "nbformat": 4,
 "nbformat_minor": 2
}
